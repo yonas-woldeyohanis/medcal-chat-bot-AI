{
  "nbformat": 4,
  "nbformat_minor": 0,
  "metadata": {
    "colab": {
      "provenance": [],
      "authorship_tag": "ABX9TyNBg2EyF8uJjIVBO0gFam0A",
      "include_colab_link": true
    },
    "kernelspec": {
      "name": "python3",
      "display_name": "Python 3"
    },
    "language_info": {
      "name": "python"
    }
  },
  "cells": [
    {
      "cell_type": "markdown",
      "metadata": {
        "id": "view-in-github",
        "colab_type": "text"
      },
      "source": [
        "<a href=\"https://colab.research.google.com/github/yonas-woldeyohanis/medcal-chat-bot-AI/blob/main/CSEC_Bootcamp_Tasks.ipynb\" target=\"_parent\"><img src=\"https://colab.research.google.com/assets/colab-badge.svg\" alt=\"Open In Colab\"/></a>"
      ]
    },
    {
      "cell_type": "code",
      "execution_count": null,
      "metadata": {
        "id": "Pz8y1JuPkj6Y"
      },
      "outputs": [],
      "source": []
    },
    {
      "cell_type": "markdown",
      "source": [
        "### 1. Difference Between List, Dictionary, and NumPy Array  \n",
        "\n",
        "- List:  A list is a built-in Python data structure that can hold a collection of items (any data type)\n",
        "Example:  \n",
        "  \n",
        "  "
      ],
      "metadata": {
        "id": "5HoyENBnnQvT"
      }
    },
    {
      "cell_type": "code",
      "source": [
        "yoni_list =  [1, 2, 3, 'Yoni', True]\n",
        "print(yoni_list[3])  # Output will be : Yoni"
      ],
      "metadata": {
        "colab": {
          "base_uri": "https://localhost:8080/"
        },
        "id": "ABBKYdzGo0VW",
        "outputId": "f12dce9b-7e4d-4ed4-c25a-80b57913fedb"
      },
      "execution_count": 2,
      "outputs": [
        {
          "output_type": "stream",
          "name": "stdout",
          "text": [
            "Yoni\n"
          ]
        }
      ]
    },
    {
      "cell_type": "markdown",
      "source": [
        "Dictionary: A dictionary stores key-value pairs. It’s unordered (though from Python 3.7+ it maintains insertion order) and mutable.. Example:"
      ],
      "metadata": {
        "id": "CGi8pyYoqhFT"
      }
    },
    {
      "cell_type": "code",
      "source": [
        "yoni_dict = {\"name\": \"yonas\", \"age\": 20}\n",
        "print(yoni_dict['name'])  # Output: Yonas\n"
      ],
      "metadata": {
        "id": "19zrOvfdqm3X"
      },
      "execution_count": null,
      "outputs": []
    },
    {
      "cell_type": "markdown",
      "source": [
        "NumPy Array: A NumPy array is like a list but more powerful for numerical operations. It's used in data science, machine learning, and scientific computing. Example:"
      ],
      "metadata": {
        "id": "0exyvDx1rDmI"
      }
    },
    {
      "cell_type": "code",
      "source": [
        "import numpy as np\n",
        "yoni_array = np.array([1, 2, 3, 4])\n"
      ],
      "metadata": {
        "id": "xYZZTsIrrW4p"
      },
      "execution_count": null,
      "outputs": []
    },
    {
      "cell_type": "markdown",
      "source": [
        "# 2. Function to square even numbers"
      ],
      "metadata": {
        "id": "ct4ru0iqsZCC"
      }
    },
    {
      "cell_type": "code",
      "source": [
        "def square_even_numbers(numbers):\n",
        "    return [x**2 for x in numbers if x % 2 == 0]\n",
        "\n",
        "\n",
        "yoni_list = [10, 15, 20, 25, 30]\n",
        "result = square_even_numbers(yoni_list)\n",
        "print(result)  # Output will be: [100, 400, 900]\n"
      ],
      "metadata": {
        "id": "nKmi3OlEsaRO"
      },
      "execution_count": null,
      "outputs": []
    },
    {
      "cell_type": "markdown",
      "source": [
        "# 3. What does the following code output, and why?"
      ],
      "metadata": {
        "id": "KeZmgjy3tyJ4"
      }
    },
    {
      "cell_type": "code",
      "source": [
        "x = [1, 2, 3]\n",
        "y = x\n",
        "y.append(4)\n",
        "print(x)   # Output: [1, 2, 3, 4]"
      ],
      "metadata": {
        "id": "Z9GG2hDCuJ7J"
      },
      "execution_count": null,
      "outputs": []
    },
    {
      "cell_type": "markdown",
      "source": [
        "Because\n",
        "- y = x does not create a new list; it creates a reference (y) to the same list object as x.\n",
        "\n",
        "- When we modify y (e.g., y.append(4)), x also changes because they point to the same list in memory.\n",
        "\n"
      ],
      "metadata": {
        "id": "GbdCKE6XuXX4"
      }
    },
    {
      "cell_type": "markdown",
      "source": [
        "#4 .shape in pandas:\n",
        "- Returns the dimensions of the DataFrame as a tuple: (rows, columns)\n",
        "\n",
        " .describe() in pandas:\n",
        "- Provides summary statistics for numeric columns in your DataFrame."
      ],
      "metadata": {
        "id": "RFpo1PgqwMK0"
      }
    },
    {
      "cell_type": "code",
      "source": [
        "import pandas as pd\n",
        "\n",
        "\n",
        "data = {\n",
        "    'Name': ['Yoni', 'Liya', 'Bekele', 'Sara'],\n",
        "    'Age': [21, 23, 22, 20],\n",
        "    'Score': [88, 92, 85, 90]\n",
        "}\n",
        "\n",
        "df = pd.DataFrame(data)\n",
        "\n",
        "# .shape gives the dimensions\n",
        "print(\"Shape of DataFrame:\", df.shape)\n",
        "\n",
        "# .describe() gives summary statistics\n",
        "print(\"\\nSummary statistics:\\n\", df.describe())\n"
      ],
      "metadata": {
        "id": "lELYYeuJwY1b"
      },
      "execution_count": null,
      "outputs": []
    },
    {
      "cell_type": "markdown",
      "source": [
        "#5\n",
        "- Print the first 5 rows\n",
        "First 5 rows:"
      ],
      "metadata": {
        "id": "QFkYVFLgxIcO"
      }
    },
    {
      "cell_type": "code",
      "source": [
        "# First 5 rows:\n",
        "#   Month  1958  1959  1960\n",
        "# 0   JAN   340   360   417\n",
        "# 1   FEB   318   342   391\n",
        "# 2   MAR   362   406   419\n",
        "# 3   APR   348   396   461\n",
        "# 4   MAY   363   420   472"
      ],
      "metadata": {
        "id": "tVP4dNXexmLO"
      },
      "execution_count": null,
      "outputs": []
    },
    {
      "cell_type": "markdown",
      "source": [
        "What do you notice about the data?\n",
        "\n",
        "Observations About the Data\n",
        "1. Basic Structure\n",
        "Columns:\n",
        "\n",
        "Month: Categorical (12 months, JAN-DEC).\n",
        "\n",
        "1958, 1959, 1960: Numeric (passenger counts in thousands).\n",
        "\n",
        "Rows: 12 (one per month).\n",
        "\n",
        "No missing values: All cells are populated.\n",
        "\n",
        "2. Trends Over Time\n",
        "Yearly Growth: Passenger numbers increased every year.\n",
        "\n",
        "Example: January → 1958: 340, 1959: 360, 1960: 417.\n",
        "\n",
        "Seasonality:\n",
        "\n",
        "Peak travel: Summer months (JUL, AUG) consistently have the highest numbers.\n",
        "\n",
        "July 1960: 622k passengers (highest in the dataset).\n",
        "\n",
        "Lowest travel: Winter months (NOV, DEC, JAN).\n",
        "\n",
        "November 1958: 310k passengers (lowest in the dataset).\n",
        "\n",
        "3. Statistical Insights\n",
        "1958-1960 Growth:\n",
        "\n",
        "Total passengers grew by ~30% from 1958 to 1960 (sum all months).\n",
        "\n",
        "Variability:\n",
        "\n",
        "Standard deviation increases yearly (e.g., higher fluctuations in 1960).\n",
        "\n"
      ],
      "metadata": {
        "id": "xBwSeFGDxs0O"
      }
    },
    {
      "cell_type": "markdown",
      "source": [
        "#6\n",
        "-   The month with the highest total passengers\n",
        "Highest total passengers: JUL (July)\n",
        "\n",
        "-   The month with the lowest in 1958\n",
        "Lowest in 1958: NOV (November)"
      ],
      "metadata": {
        "id": "2CGEmxXyx5FY"
      }
    },
    {
      "cell_type": "markdown",
      "source": [
        "#7 .groupby()\n",
        "\n",
        "- Groups data by a column/category."
      ],
      "metadata": {
        "id": "mSuVhbgLyVCr"
      }
    },
    {
      "cell_type": "code",
      "source": [
        "import pandas as pd\n",
        "\n",
        "\n",
        "data = {\n",
        "    'Department': ['HR', 'Tech', 'Tech', 'Finance', 'HR'],\n",
        "    'Salary': [50000, 70000, 80000, 60000, 55000]\n",
        "}\n",
        "df = pd.DataFrame(data)\n",
        "\n",
        "# Group by 'Department' and calculate mean salary\n",
        "grouped = df.groupby('Department').mean()\n",
        "print(grouped)"
      ],
      "metadata": {
        "id": "iM8-li9jyuDX"
      },
      "execution_count": null,
      "outputs": []
    },
    {
      "cell_type": "markdown",
      "source": [
        "#8  Load the Titanic dataset from seaborn and:\n",
        "\n",
        "  Count how many missing values are in each column  "
      ],
      "metadata": {
        "id": "kez59zi-yxlp"
      }
    },
    {
      "cell_type": "code",
      "source": [
        "import seaborn as sns\n",
        "\n",
        "# Load Titanic dataset\n",
        "titanic = sns.load_dataset('titanic')\n",
        "\n",
        "# Count missing values per column\n",
        "missing_values = titanic.isnull().sum()\n",
        "missing_values\n",
        "\n",
        "       #OUTPUTS\n",
        "# survived         0\n",
        "# pclass           0\n",
        "# sex              0\n",
        "# age            177\n",
        "# sibsp            0\n",
        "# parch            0\n",
        "# fare             0\n",
        "# embarked         2\n",
        "# class            0\n",
        "# who              0\n",
        "# adult_male       0\n",
        "# deck           688\n",
        "# embark_town      2\n",
        "# alive            0\n",
        "# alone            0\n",
        "# dtype: int64"
      ],
      "metadata": {
        "id": "yBo9Axw81JWX"
      },
      "execution_count": null,
      "outputs": []
    },
    {
      "cell_type": "markdown",
      "source": [
        "#9.  Use df[\"Age\"].hist() to visualize the age distribution.\n",
        "- What shape do you see\n",
        "\n",
        "- What might be the reason for the skew?"
      ],
      "metadata": {
        "id": "qkqVUmYa2H1X"
      }
    },
    {
      "cell_type": "code",
      "source": [
        "import seaborn as sns\n",
        "import matplotlib.pyplot as plt\n",
        "\n",
        "\n",
        "titanic = sns.load_dataset('titanic')\n",
        "\n",
        "# Visualize age distribution\n",
        "titanic[\"age\"].hist(bins=30)\n",
        "plt.title(\"Age Distribution of Titanic Passengers\")\n",
        "plt.xlabel(\"Age\")\n",
        "plt.ylabel(\"Count\")\n",
        "plt.show()"
      ],
      "metadata": {
        "id": "uAZZ4fGT2vNn"
      },
      "execution_count": null,
      "outputs": []
    },
    {
      "cell_type": "markdown",
      "source": [
        "**Observations:**\n",
        "1. **Shape**: The distribution is right-skewed (long tail on the right).  \n",
        "2. **Reason for Skew**:  \n",
        "   - More young passengers (20s-30s) than older adults.  \n",
        "   - Few infants/children (left side) and very few elderly (right tail).  \n",
        "   - Common in population demographics where younger people travel/migrate more.bold text"
      ],
      "metadata": {
        "id": "R8MaaeYN3Dcm"
      }
    },
    {
      "cell_type": "markdown",
      "source": [
        "#10. What does it mean if a column has a high standard deviation?\n",
        "\n",
        "  - Create a list or column that has a low and a high std. dev, and compare."
      ],
      "metadata": {
        "id": "qT_NSOss3gqe"
      }
    },
    {
      "cell_type": "code",
      "source": [
        "import pandas as pd\n",
        "import numpy as np\n",
        "\n",
        "\n",
        "data = {\n",
        "    'Low_Std_Dev': [10, 11, 9, 10, 10, 11],\n",
        "    'High_Std_Dev': [1, 50, 100, 2, 99, 0]\n",
        "}\n",
        "df = pd.DataFrame(data)\n",
        "\n",
        "\n",
        "std_dev = df.std()\n",
        "print(\"Standard Deviations:\")\n",
        "print(std_dev)\n",
        "\n",
        "\n",
        "df.hist(bins=20, figsize=(10,4))\n",
        "\n",
        "#OUTPUT\n",
        "# Standard Deviations:\n",
        "# Low_Std_Dev      0.75\n",
        "# High_Std_Dev    48.03\n",
        "# dtype: float64"
      ],
      "metadata": {
        "id": "f7yhvrtj3kn1"
      },
      "execution_count": null,
      "outputs": []
    },
    {
      "cell_type": "markdown",
      "source": [
        "**What High Standard Deviation Means:**\n",
        "- Indicates data points are spread far from the mean (high variability)\n",
        "- Example: `High_Std_Dev` column (std=48) has values ranging from 0-100\n",
        "\n",
        "**Low Standard Deviation:**\n",
        "- Shows data points cluster close to the mean (low variability)\n",
        "- Example: `Low_Std_Dev` column (std=0.75) has values all near 10\n",
        "\n",
        "**Key Insight:**\n",
        "High std dev suggests less predictability, while low std dev indicates consistency."
      ],
      "metadata": {
        "id": "ZtMrUnJ233oW"
      }
    },
    {
      "cell_type": "markdown",
      "source": [
        "#11.What are some real-world problems where missing data might affect results? Give 2 examples.\n"
      ],
      "metadata": {
        "id": "J-mCdBQk4N_i"
      }
    },
    {
      "cell_type": "markdown",
      "source": [
        "1. Healthcare - Patient Treatment Decisions"
      ],
      "metadata": {
        "id": "A_qoDaDZ4S0z"
      }
    },
    {
      "cell_type": "code",
      "source": [
        "\n",
        "import pandas as pd\n",
        "\n",
        "health_data = {\n",
        "    'Patient_ID': [101, 102, 103, 104],\n",
        "    'Blood_Pressure': [120, None, 118, None],  # Missing values\n",
        "    'Diabetes_Risk': ['Low', 'High', None, 'Medium']  # Missing risk assessment\n",
        "}\n",
        "df_health = pd.DataFrame(health_data)\n",
        "print(\"Missing health data:\\n\", df_health.isnull().sum())"
      ],
      "metadata": {
        "id": "UPs3MfOO4XxX"
      },
      "execution_count": null,
      "outputs": []
    },
    {
      "cell_type": "markdown",
      "source": [
        "Impact:\n",
        "\n",
        "- Missing blood pressure values could lead to undiagnosed hypertension.\n",
        "\n",
        "- Absent diabetes risk assessments might delay preventative care."
      ],
      "metadata": {
        "id": "gv6NtuIR4dWZ"
      }
    },
    {
      "cell_type": "markdown",
      "source": [
        "2. Finance - Credit Scoring"
      ],
      "metadata": {
        "id": "mupb_21-4qbp"
      }
    },
    {
      "cell_type": "code",
      "source": [
        "\n",
        "finance_data = {\n",
        "    'Applicant_ID': [201, 202, 203],\n",
        "    'Income': [75000, None, 48000],  # Missing income\n",
        "    'Employment_Years': [2, 5, None]  # Missing employment history\n",
        "}\n",
        "df_finance = pd.DataFrame(finance_data)\n",
        "print(\"\\nMissing financial data:\\n\", df_finance.isnull().sum())"
      ],
      "metadata": {
        "id": "DUSKBgAD4rID"
      },
      "execution_count": null,
      "outputs": []
    },
    {
      "cell_type": "markdown",
      "source": [
        "Impact:\n",
        "\n",
        "- Missing income data may cause inaccurate credit risk predictions.\n",
        "\n",
        "- Absent employment history could lead to wrongful loan approvals/rejections."
      ],
      "metadata": {
        "id": "kRcS0J7_4vKU"
      }
    },
    {
      "cell_type": "markdown",
      "source": [
        "**Why It Matters**:\n",
        "1. **Bias**: Missing data often isn't random (e.g., wealthy patients skip tests, low-income applicants omit debts).  \n",
        "2. **False Conclusions**: Models may over/underestimate risks without complete data.  \n",
        "\n",
        "**Solutions**:  \n",
        "- Use `.fillna()` with caution (e.g., mean imputation for numerical data).  \n",
        "- Clearly document missingness patterns before analysis.  "
      ],
      "metadata": {
        "id": "rgsX303d47AL"
      }
    }
  ]
}